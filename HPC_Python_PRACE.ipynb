{
  "nbformat": 4,
  "nbformat_minor": 0,
  "metadata": {
    "colab": {
      "name": "HPC_Python_PRACE.ipynb",
      "provenance": [],
      "authorship_tag": "ABX9TyOYx7BvdKUXemiCZ+Q0OHxI",
      "include_colab_link": true
    },
    "kernelspec": {
      "name": "python3",
      "display_name": "Python 3"
    }
  },
  "cells": [
    {
      "cell_type": "markdown",
      "metadata": {
        "id": "view-in-github",
        "colab_type": "text"
      },
      "source": [
        "<a href=\"https://colab.research.google.com/github/chandanbose/HPC_Python_PRACE/blob/main/HPC_Python_PRACE.ipynb\" target=\"_parent\"><img src=\"https://colab.research.google.com/assets/colab-badge.svg\" alt=\"Open In Colab\"/></a>"
      ]
    },
    {
      "cell_type": "markdown",
      "metadata": {
        "id": "GGYpARviM6Qv"
      },
      "source": [
        "## Timer 1"
      ]
    },
    {
      "cell_type": "code",
      "metadata": {
        "id": "JejwxAdJLfIS",
        "outputId": "d390a940-5965-43af-e3d4-26e8b9e89d93",
        "colab": {
          "base_uri": "https://localhost:8080/",
          "height": 34
        }
      },
      "source": [
        "from math import exp, sin\n",
        "import time\n",
        "\n",
        "def calculate(a):\n",
        "    result = 0\n",
        "    for val in a:\n",
        "        result += exp(val) * sin(val)\n",
        "    return result\n",
        "\n",
        "x = [0.1 * i for i in range(1000)]\n",
        "t0 = time.process_time()\n",
        "for r in range(1000):\n",
        "    calculate(x)\n",
        "t1 = time.process_time()\n",
        "print(\"Time spent\", t1 - t0)"
      ],
      "execution_count": null,
      "outputs": [
        {
          "output_type": "stream",
          "text": [
            "Time spent 0.196418529\n"
          ],
          "name": "stdout"
        }
      ]
    },
    {
      "cell_type": "markdown",
      "metadata": {
        "id": "g1jIc4otNCj2"
      },
      "source": [
        "## Timer 2"
      ]
    },
    {
      "cell_type": "code",
      "metadata": {
        "id": "lmkIBi1gNHgg",
        "outputId": "6e99c9cb-d78b-44f7-b495-a680e568ea9a",
        "colab": {
          "base_uri": "https://localhost:8080/",
          "height": 34
        }
      },
      "source": [
        "from math import exp, sin\n",
        "import time\n",
        "\n",
        "class Timer:\n",
        "    def __enter__(self):\n",
        "        self.start = time.process_time()\n",
        "        return self\n",
        "\n",
        "    def __exit__(self, *args):\n",
        "        self.end = time.process_time()\n",
        "        self.interval = self.end - self.start\n",
        "\n",
        "def calculate(a):\n",
        "    result = 0\n",
        "    for val in a:\n",
        "        result += exp(val) * sin(val)\n",
        "    return result\n",
        "\n",
        "x = [0.1 * i for i in range(1000)]\n",
        "with Timer() as t:\n",
        "    for r in range(1000):\n",
        "        calculate(x)\n",
        "print(\"Time spent\", t.interval)"
      ],
      "execution_count": 3,
      "outputs": [
        {
          "output_type": "stream",
          "text": [
            "Time spent 0.17298360699999993\n"
          ],
          "name": "stdout"
        }
      ]
    },
    {
      "cell_type": "markdown",
      "metadata": {
        "id": "QXxJFX4vOVS9"
      },
      "source": [
        "## Timeit"
      ]
    },
    {
      "cell_type": "code",
      "metadata": {
        "id": "3_oFbNMdOZWN",
        "outputId": "2e9aa2e1-9542-459e-a384-d635100c2168",
        "colab": {
          "base_uri": "https://localhost:8080/",
          "height": 34
        }
      },
      "source": [
        "def f(x):\n",
        "    return x**2\n",
        "def g(x):\n",
        "    return x**4\n",
        "def h(x):\n",
        "    return x**8\n",
        "\n",
        "import timeit\n",
        "print(timeit.timeit('[func(42) for func in (f,g,h)]', globals=globals()))"
      ],
      "execution_count": 4,
      "outputs": [
        {
          "output_type": "stream",
          "text": [
            "1.16575186700004\n"
          ],
          "name": "stdout"
        }
      ]
    },
    {
      "cell_type": "markdown",
      "metadata": {
        "id": "dLqfdGMYQpjj"
      },
      "source": [
        "## cProfile"
      ]
    },
    {
      "cell_type": "markdown",
      "metadata": {
        "id": "N0WUioywQ1yg"
      },
      "source": [
        "1. python3 -m cProfile -o profile.dat main.py\n",
        "2. python3 -m pstats profile.dat (opens an interactive session)\n",
        "3. help \n",
        "4. help stats\n",
        "5. stats 10 \n",
        "6. strip (removes path)\n",
        "7. sort time"
      ]
    }
  ]
}